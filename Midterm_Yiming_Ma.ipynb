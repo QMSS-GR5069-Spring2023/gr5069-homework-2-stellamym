{
  "cells": [
    {
      "cell_type": "code",
      "execution_count": null,
      "metadata": {
        "id": "XRQyn2vdGM_9"
      },
      "outputs": [],
      "source": [
        "#Import Python Libraries\n",
        "import numpy as np\n",
        "import scipy as sp \n",
        "import pandas as pd \n",
        "import matplotlib as mpl \n",
        "import seaborn as sns\n",
        "from matplotlib import pyplot as plt \n",
        "\n",
        "%matplotlib inline\n",
        "from scipy import stats\n",
        "\n",
        "# use seaborn plotting defaults\n",
        "import seaborn as sns; sns.set()"
      ]
    },
    {
      "cell_type": "markdown",
      "metadata": {
        "id": "JLXaHijDlnH9"
      },
      "source": [
        "1.  Import the spam dataset and print the first six rows.  "
      ]
    },
    {
      "cell_type": "code",
      "execution_count": null,
      "metadata": {
        "colab": {
          "base_uri": "https://localhost:8080/",
          "height": 77
        },
        "id": "Ab2lW7xslXu4",
        "outputId": "49fdb403-17e1-445e-b2ef-76b7016b0660"
      },
      "outputs": [
        {
          "data": {
            "text/html": [
              "\n",
              "     <input type=\"file\" id=\"files-9d11902f-129d-4945-b4b2-ded37c46eb7a\" name=\"files[]\" multiple disabled\n",
              "        style=\"border:none\" />\n",
              "     <output id=\"result-9d11902f-129d-4945-b4b2-ded37c46eb7a\">\n",
              "      Upload widget is only available when the cell has been executed in the\n",
              "      current browser session. Please rerun this cell to enable.\n",
              "      </output>\n",
              "      <script>// Copyright 2017 Google LLC\n",
              "//\n",
              "// Licensed under the Apache License, Version 2.0 (the \"License\");\n",
              "// you may not use this file except in compliance with the License.\n",
              "// You may obtain a copy of the License at\n",
              "//\n",
              "//      http://www.apache.org/licenses/LICENSE-2.0\n",
              "//\n",
              "// Unless required by applicable law or agreed to in writing, software\n",
              "// distributed under the License is distributed on an \"AS IS\" BASIS,\n",
              "// WITHOUT WARRANTIES OR CONDITIONS OF ANY KIND, either express or implied.\n",
              "// See the License for the specific language governing permissions and\n",
              "// limitations under the License.\n",
              "\n",
              "/**\n",
              " * @fileoverview Helpers for google.colab Python module.\n",
              " */\n",
              "(function(scope) {\n",
              "function span(text, styleAttributes = {}) {\n",
              "  const element = document.createElement('span');\n",
              "  element.textContent = text;\n",
              "  for (const key of Object.keys(styleAttributes)) {\n",
              "    element.style[key] = styleAttributes[key];\n",
              "  }\n",
              "  return element;\n",
              "}\n",
              "\n",
              "// Max number of bytes which will be uploaded at a time.\n",
              "const MAX_PAYLOAD_SIZE = 100 * 1024;\n",
              "\n",
              "function _uploadFiles(inputId, outputId) {\n",
              "  const steps = uploadFilesStep(inputId, outputId);\n",
              "  const outputElement = document.getElementById(outputId);\n",
              "  // Cache steps on the outputElement to make it available for the next call\n",
              "  // to uploadFilesContinue from Python.\n",
              "  outputElement.steps = steps;\n",
              "\n",
              "  return _uploadFilesContinue(outputId);\n",
              "}\n",
              "\n",
              "// This is roughly an async generator (not supported in the browser yet),\n",
              "// where there are multiple asynchronous steps and the Python side is going\n",
              "// to poll for completion of each step.\n",
              "// This uses a Promise to block the python side on completion of each step,\n",
              "// then passes the result of the previous step as the input to the next step.\n",
              "function _uploadFilesContinue(outputId) {\n",
              "  const outputElement = document.getElementById(outputId);\n",
              "  const steps = outputElement.steps;\n",
              "\n",
              "  const next = steps.next(outputElement.lastPromiseValue);\n",
              "  return Promise.resolve(next.value.promise).then((value) => {\n",
              "    // Cache the last promise value to make it available to the next\n",
              "    // step of the generator.\n",
              "    outputElement.lastPromiseValue = value;\n",
              "    return next.value.response;\n",
              "  });\n",
              "}\n",
              "\n",
              "/**\n",
              " * Generator function which is called between each async step of the upload\n",
              " * process.\n",
              " * @param {string} inputId Element ID of the input file picker element.\n",
              " * @param {string} outputId Element ID of the output display.\n",
              " * @return {!Iterable<!Object>} Iterable of next steps.\n",
              " */\n",
              "function* uploadFilesStep(inputId, outputId) {\n",
              "  const inputElement = document.getElementById(inputId);\n",
              "  inputElement.disabled = false;\n",
              "\n",
              "  const outputElement = document.getElementById(outputId);\n",
              "  outputElement.innerHTML = '';\n",
              "\n",
              "  const pickedPromise = new Promise((resolve) => {\n",
              "    inputElement.addEventListener('change', (e) => {\n",
              "      resolve(e.target.files);\n",
              "    });\n",
              "  });\n",
              "\n",
              "  const cancel = document.createElement('button');\n",
              "  inputElement.parentElement.appendChild(cancel);\n",
              "  cancel.textContent = 'Cancel upload';\n",
              "  const cancelPromise = new Promise((resolve) => {\n",
              "    cancel.onclick = () => {\n",
              "      resolve(null);\n",
              "    };\n",
              "  });\n",
              "\n",
              "  // Wait for the user to pick the files.\n",
              "  const files = yield {\n",
              "    promise: Promise.race([pickedPromise, cancelPromise]),\n",
              "    response: {\n",
              "      action: 'starting',\n",
              "    }\n",
              "  };\n",
              "\n",
              "  cancel.remove();\n",
              "\n",
              "  // Disable the input element since further picks are not allowed.\n",
              "  inputElement.disabled = true;\n",
              "\n",
              "  if (!files) {\n",
              "    return {\n",
              "      response: {\n",
              "        action: 'complete',\n",
              "      }\n",
              "    };\n",
              "  }\n",
              "\n",
              "  for (const file of files) {\n",
              "    const li = document.createElement('li');\n",
              "    li.append(span(file.name, {fontWeight: 'bold'}));\n",
              "    li.append(span(\n",
              "        `(${file.type || 'n/a'}) - ${file.size} bytes, ` +\n",
              "        `last modified: ${\n",
              "            file.lastModifiedDate ? file.lastModifiedDate.toLocaleDateString() :\n",
              "                                    'n/a'} - `));\n",
              "    const percent = span('0% done');\n",
              "    li.appendChild(percent);\n",
              "\n",
              "    outputElement.appendChild(li);\n",
              "\n",
              "    const fileDataPromise = new Promise((resolve) => {\n",
              "      const reader = new FileReader();\n",
              "      reader.onload = (e) => {\n",
              "        resolve(e.target.result);\n",
              "      };\n",
              "      reader.readAsArrayBuffer(file);\n",
              "    });\n",
              "    // Wait for the data to be ready.\n",
              "    let fileData = yield {\n",
              "      promise: fileDataPromise,\n",
              "      response: {\n",
              "        action: 'continue',\n",
              "      }\n",
              "    };\n",
              "\n",
              "    // Use a chunked sending to avoid message size limits. See b/62115660.\n",
              "    let position = 0;\n",
              "    do {\n",
              "      const length = Math.min(fileData.byteLength - position, MAX_PAYLOAD_SIZE);\n",
              "      const chunk = new Uint8Array(fileData, position, length);\n",
              "      position += length;\n",
              "\n",
              "      const base64 = btoa(String.fromCharCode.apply(null, chunk));\n",
              "      yield {\n",
              "        response: {\n",
              "          action: 'append',\n",
              "          file: file.name,\n",
              "          data: base64,\n",
              "        },\n",
              "      };\n",
              "\n",
              "      let percentDone = fileData.byteLength === 0 ?\n",
              "          100 :\n",
              "          Math.round((position / fileData.byteLength) * 100);\n",
              "      percent.textContent = `${percentDone}% done`;\n",
              "\n",
              "    } while (position < fileData.byteLength);\n",
              "  }\n",
              "\n",
              "  // All done.\n",
              "  yield {\n",
              "    response: {\n",
              "      action: 'complete',\n",
              "    }\n",
              "  };\n",
              "}\n",
              "\n",
              "scope.google = scope.google || {};\n",
              "scope.google.colab = scope.google.colab || {};\n",
              "scope.google.colab._files = {\n",
              "  _uploadFiles,\n",
              "  _uploadFilesContinue,\n",
              "};\n",
              "})(self);\n",
              "</script> "
            ],
            "text/plain": [
              "<IPython.core.display.HTML object>"
            ]
          },
          "metadata": {},
          "output_type": "display_data"
        },
        {
          "name": "stdout",
          "output_type": "stream",
          "text": [
            "Saving spam_dataset.csv to spam_dataset (1).csv\n"
          ]
        }
      ],
      "source": [
        "#Read in the file and the data set\n",
        "from google.colab import files\n",
        "uploaded = files.upload()"
      ]
    },
    {
      "cell_type": "code",
      "execution_count": null,
      "metadata": {
        "id": "rbJ1iZZXG8bw"
      },
      "outputs": [],
      "source": [
        "import io\n",
        "df = pd.read_csv(io.BytesIO(uploaded['spam_dataset.csv']))"
      ]
    },
    {
      "cell_type": "code",
      "execution_count": null,
      "metadata": {
        "colab": {
          "base_uri": "https://localhost:8080/",
          "height": 331
        },
        "id": "PxMqoStZHS6J",
        "outputId": "88174eee-bbd5-4344-80cd-7844e27312c1"
      },
      "outputs": [
        {
          "data": {
            "text/html": [
              "\n",
              "  <div id=\"df-13752cb5-ec80-47f8-a505-3e8d68a20562\">\n",
              "    <div class=\"colab-df-container\">\n",
              "      <div>\n",
              "<style scoped>\n",
              "    .dataframe tbody tr th:only-of-type {\n",
              "        vertical-align: middle;\n",
              "    }\n",
              "\n",
              "    .dataframe tbody tr th {\n",
              "        vertical-align: top;\n",
              "    }\n",
              "\n",
              "    .dataframe thead th {\n",
              "        text-align: right;\n",
              "    }\n",
              "</style>\n",
              "<table border=\"1\" class=\"dataframe\">\n",
              "  <thead>\n",
              "    <tr style=\"text-align: right;\">\n",
              "      <th></th>\n",
              "      <th>word_freq_make:</th>\n",
              "      <th>word_freq_address:</th>\n",
              "      <th>word_freq_all:</th>\n",
              "      <th>word_freq_3d:</th>\n",
              "      <th>word_freq_our:</th>\n",
              "      <th>word_freq_over:</th>\n",
              "      <th>word_freq_remove:</th>\n",
              "      <th>word_freq_internet:</th>\n",
              "      <th>word_freq_order:</th>\n",
              "      <th>word_freq_mail:</th>\n",
              "      <th>...</th>\n",
              "      <th>char_freq_;:</th>\n",
              "      <th>char_freq_(:</th>\n",
              "      <th>char_freq_[:</th>\n",
              "      <th>char_freq_!:</th>\n",
              "      <th>char_freq_$:</th>\n",
              "      <th>char_freq_#:</th>\n",
              "      <th>capital_run_length_average:</th>\n",
              "      <th>capital_run_length_longest:</th>\n",
              "      <th>capital_run_length_total:</th>\n",
              "      <th>spam</th>\n",
              "    </tr>\n",
              "  </thead>\n",
              "  <tbody>\n",
              "    <tr>\n",
              "      <th>0</th>\n",
              "      <td>0.00</td>\n",
              "      <td>0.64</td>\n",
              "      <td>0.64</td>\n",
              "      <td>0.0</td>\n",
              "      <td>0.32</td>\n",
              "      <td>0.00</td>\n",
              "      <td>0.00</td>\n",
              "      <td>0.00</td>\n",
              "      <td>0.00</td>\n",
              "      <td>0.00</td>\n",
              "      <td>...</td>\n",
              "      <td>0.00</td>\n",
              "      <td>0.000</td>\n",
              "      <td>0.0</td>\n",
              "      <td>0.778</td>\n",
              "      <td>0.000</td>\n",
              "      <td>0.000</td>\n",
              "      <td>3.756</td>\n",
              "      <td>61</td>\n",
              "      <td>278</td>\n",
              "      <td>1</td>\n",
              "    </tr>\n",
              "    <tr>\n",
              "      <th>1</th>\n",
              "      <td>0.21</td>\n",
              "      <td>0.28</td>\n",
              "      <td>0.50</td>\n",
              "      <td>0.0</td>\n",
              "      <td>0.14</td>\n",
              "      <td>0.28</td>\n",
              "      <td>0.21</td>\n",
              "      <td>0.07</td>\n",
              "      <td>0.00</td>\n",
              "      <td>0.94</td>\n",
              "      <td>...</td>\n",
              "      <td>0.00</td>\n",
              "      <td>0.132</td>\n",
              "      <td>0.0</td>\n",
              "      <td>0.372</td>\n",
              "      <td>0.180</td>\n",
              "      <td>0.048</td>\n",
              "      <td>5.114</td>\n",
              "      <td>101</td>\n",
              "      <td>1028</td>\n",
              "      <td>1</td>\n",
              "    </tr>\n",
              "    <tr>\n",
              "      <th>2</th>\n",
              "      <td>0.06</td>\n",
              "      <td>0.00</td>\n",
              "      <td>0.71</td>\n",
              "      <td>0.0</td>\n",
              "      <td>1.23</td>\n",
              "      <td>0.19</td>\n",
              "      <td>0.19</td>\n",
              "      <td>0.12</td>\n",
              "      <td>0.64</td>\n",
              "      <td>0.25</td>\n",
              "      <td>...</td>\n",
              "      <td>0.01</td>\n",
              "      <td>0.143</td>\n",
              "      <td>0.0</td>\n",
              "      <td>0.276</td>\n",
              "      <td>0.184</td>\n",
              "      <td>0.010</td>\n",
              "      <td>9.821</td>\n",
              "      <td>485</td>\n",
              "      <td>2259</td>\n",
              "      <td>1</td>\n",
              "    </tr>\n",
              "    <tr>\n",
              "      <th>3</th>\n",
              "      <td>0.00</td>\n",
              "      <td>0.00</td>\n",
              "      <td>0.00</td>\n",
              "      <td>0.0</td>\n",
              "      <td>0.63</td>\n",
              "      <td>0.00</td>\n",
              "      <td>0.31</td>\n",
              "      <td>0.63</td>\n",
              "      <td>0.31</td>\n",
              "      <td>0.63</td>\n",
              "      <td>...</td>\n",
              "      <td>0.00</td>\n",
              "      <td>0.137</td>\n",
              "      <td>0.0</td>\n",
              "      <td>0.137</td>\n",
              "      <td>0.000</td>\n",
              "      <td>0.000</td>\n",
              "      <td>3.537</td>\n",
              "      <td>40</td>\n",
              "      <td>191</td>\n",
              "      <td>1</td>\n",
              "    </tr>\n",
              "    <tr>\n",
              "      <th>4</th>\n",
              "      <td>0.00</td>\n",
              "      <td>0.00</td>\n",
              "      <td>0.00</td>\n",
              "      <td>0.0</td>\n",
              "      <td>0.63</td>\n",
              "      <td>0.00</td>\n",
              "      <td>0.31</td>\n",
              "      <td>0.63</td>\n",
              "      <td>0.31</td>\n",
              "      <td>0.63</td>\n",
              "      <td>...</td>\n",
              "      <td>0.00</td>\n",
              "      <td>0.135</td>\n",
              "      <td>0.0</td>\n",
              "      <td>0.135</td>\n",
              "      <td>0.000</td>\n",
              "      <td>0.000</td>\n",
              "      <td>3.537</td>\n",
              "      <td>40</td>\n",
              "      <td>191</td>\n",
              "      <td>1</td>\n",
              "    </tr>\n",
              "    <tr>\n",
              "      <th>5</th>\n",
              "      <td>0.00</td>\n",
              "      <td>0.00</td>\n",
              "      <td>0.00</td>\n",
              "      <td>0.0</td>\n",
              "      <td>1.85</td>\n",
              "      <td>0.00</td>\n",
              "      <td>0.00</td>\n",
              "      <td>1.85</td>\n",
              "      <td>0.00</td>\n",
              "      <td>0.00</td>\n",
              "      <td>...</td>\n",
              "      <td>0.00</td>\n",
              "      <td>0.223</td>\n",
              "      <td>0.0</td>\n",
              "      <td>0.000</td>\n",
              "      <td>0.000</td>\n",
              "      <td>0.000</td>\n",
              "      <td>3.000</td>\n",
              "      <td>15</td>\n",
              "      <td>54</td>\n",
              "      <td>1</td>\n",
              "    </tr>\n",
              "  </tbody>\n",
              "</table>\n",
              "<p>6 rows × 58 columns</p>\n",
              "</div>\n",
              "      <button class=\"colab-df-convert\" onclick=\"convertToInteractive('df-13752cb5-ec80-47f8-a505-3e8d68a20562')\"\n",
              "              title=\"Convert this dataframe to an interactive table.\"\n",
              "              style=\"display:none;\">\n",
              "        \n",
              "  <svg xmlns=\"http://www.w3.org/2000/svg\" height=\"24px\"viewBox=\"0 0 24 24\"\n",
              "       width=\"24px\">\n",
              "    <path d=\"M0 0h24v24H0V0z\" fill=\"none\"/>\n",
              "    <path d=\"M18.56 5.44l.94 2.06.94-2.06 2.06-.94-2.06-.94-.94-2.06-.94 2.06-2.06.94zm-11 1L8.5 8.5l.94-2.06 2.06-.94-2.06-.94L8.5 2.5l-.94 2.06-2.06.94zm10 10l.94 2.06.94-2.06 2.06-.94-2.06-.94-.94-2.06-.94 2.06-2.06.94z\"/><path d=\"M17.41 7.96l-1.37-1.37c-.4-.4-.92-.59-1.43-.59-.52 0-1.04.2-1.43.59L10.3 9.45l-7.72 7.72c-.78.78-.78 2.05 0 2.83L4 21.41c.39.39.9.59 1.41.59.51 0 1.02-.2 1.41-.59l7.78-7.78 2.81-2.81c.8-.78.8-2.07 0-2.86zM5.41 20L4 18.59l7.72-7.72 1.47 1.35L5.41 20z\"/>\n",
              "  </svg>\n",
              "      </button>\n",
              "      \n",
              "  <style>\n",
              "    .colab-df-container {\n",
              "      display:flex;\n",
              "      flex-wrap:wrap;\n",
              "      gap: 12px;\n",
              "    }\n",
              "\n",
              "    .colab-df-convert {\n",
              "      background-color: #E8F0FE;\n",
              "      border: none;\n",
              "      border-radius: 50%;\n",
              "      cursor: pointer;\n",
              "      display: none;\n",
              "      fill: #1967D2;\n",
              "      height: 32px;\n",
              "      padding: 0 0 0 0;\n",
              "      width: 32px;\n",
              "    }\n",
              "\n",
              "    .colab-df-convert:hover {\n",
              "      background-color: #E2EBFA;\n",
              "      box-shadow: 0px 1px 2px rgba(60, 64, 67, 0.3), 0px 1px 3px 1px rgba(60, 64, 67, 0.15);\n",
              "      fill: #174EA6;\n",
              "    }\n",
              "\n",
              "    [theme=dark] .colab-df-convert {\n",
              "      background-color: #3B4455;\n",
              "      fill: #D2E3FC;\n",
              "    }\n",
              "\n",
              "    [theme=dark] .colab-df-convert:hover {\n",
              "      background-color: #434B5C;\n",
              "      box-shadow: 0px 1px 3px 1px rgba(0, 0, 0, 0.15);\n",
              "      filter: drop-shadow(0px 1px 2px rgba(0, 0, 0, 0.3));\n",
              "      fill: #FFFFFF;\n",
              "    }\n",
              "  </style>\n",
              "\n",
              "      <script>\n",
              "        const buttonEl =\n",
              "          document.querySelector('#df-13752cb5-ec80-47f8-a505-3e8d68a20562 button.colab-df-convert');\n",
              "        buttonEl.style.display =\n",
              "          google.colab.kernel.accessAllowed ? 'block' : 'none';\n",
              "\n",
              "        async function convertToInteractive(key) {\n",
              "          const element = document.querySelector('#df-13752cb5-ec80-47f8-a505-3e8d68a20562');\n",
              "          const dataTable =\n",
              "            await google.colab.kernel.invokeFunction('convertToInteractive',\n",
              "                                                     [key], {});\n",
              "          if (!dataTable) return;\n",
              "\n",
              "          const docLinkHtml = 'Like what you see? Visit the ' +\n",
              "            '<a target=\"_blank\" href=https://colab.research.google.com/notebooks/data_table.ipynb>data table notebook</a>'\n",
              "            + ' to learn more about interactive tables.';\n",
              "          element.innerHTML = '';\n",
              "          dataTable['output_type'] = 'display_data';\n",
              "          await google.colab.output.renderOutput(dataTable, element);\n",
              "          const docLink = document.createElement('div');\n",
              "          docLink.innerHTML = docLinkHtml;\n",
              "          element.appendChild(docLink);\n",
              "        }\n",
              "      </script>\n",
              "    </div>\n",
              "  </div>\n",
              "  "
            ],
            "text/plain": [
              "   word_freq_make:  word_freq_address:  word_freq_all:  word_freq_3d:  \\\n",
              "0             0.00                0.64            0.64            0.0   \n",
              "1             0.21                0.28            0.50            0.0   \n",
              "2             0.06                0.00            0.71            0.0   \n",
              "3             0.00                0.00            0.00            0.0   \n",
              "4             0.00                0.00            0.00            0.0   \n",
              "5             0.00                0.00            0.00            0.0   \n",
              "\n",
              "   word_freq_our:  word_freq_over:  word_freq_remove:  word_freq_internet:  \\\n",
              "0            0.32             0.00               0.00                 0.00   \n",
              "1            0.14             0.28               0.21                 0.07   \n",
              "2            1.23             0.19               0.19                 0.12   \n",
              "3            0.63             0.00               0.31                 0.63   \n",
              "4            0.63             0.00               0.31                 0.63   \n",
              "5            1.85             0.00               0.00                 1.85   \n",
              "\n",
              "   word_freq_order:  word_freq_mail:  ...  char_freq_;:  char_freq_(:  \\\n",
              "0              0.00             0.00  ...          0.00         0.000   \n",
              "1              0.00             0.94  ...          0.00         0.132   \n",
              "2              0.64             0.25  ...          0.01         0.143   \n",
              "3              0.31             0.63  ...          0.00         0.137   \n",
              "4              0.31             0.63  ...          0.00         0.135   \n",
              "5              0.00             0.00  ...          0.00         0.223   \n",
              "\n",
              "   char_freq_[:  char_freq_!:  char_freq_$:  char_freq_#:  \\\n",
              "0           0.0         0.778         0.000         0.000   \n",
              "1           0.0         0.372         0.180         0.048   \n",
              "2           0.0         0.276         0.184         0.010   \n",
              "3           0.0         0.137         0.000         0.000   \n",
              "4           0.0         0.135         0.000         0.000   \n",
              "5           0.0         0.000         0.000         0.000   \n",
              "\n",
              "   capital_run_length_average:  capital_run_length_longest:  \\\n",
              "0                        3.756                           61   \n",
              "1                        5.114                          101   \n",
              "2                        9.821                          485   \n",
              "3                        3.537                           40   \n",
              "4                        3.537                           40   \n",
              "5                        3.000                           15   \n",
              "\n",
              "   capital_run_length_total:  spam  \n",
              "0                        278     1  \n",
              "1                       1028     1  \n",
              "2                       2259     1  \n",
              "3                        191     1  \n",
              "4                        191     1  \n",
              "5                         54     1  \n",
              "\n",
              "[6 rows x 58 columns]"
            ]
          },
          "execution_count": 18,
          "metadata": {},
          "output_type": "execute_result"
        }
      ],
      "source": [
        "df.head(6)"
      ]
    },
    {
      "cell_type": "markdown",
      "metadata": {
        "id": "Y9wCa4ullr03"
      },
      "source": [
        "2.  Read through the documentation of the original dataset here:\n",
        "\n",
        "http://archive.ics.uci.edu/ml/machine-learning-databases/spambase/spambase.names\n",
        "\n",
        "The dependent variable is \"spam\" where one indicates that an email is spam and zero otherwise.  Which three variables in the dataset do you think will be important predictors in a model of spam?  Why?"
      ]
    },
    {
      "cell_type": "markdown",
      "metadata": {
        "id": "TKVcbGTqI56Y"
      },
      "source": [
        "The three variables \"word_freq_order:\", \"\"word_freq_free:\", and \"\"word_freq_credit:\" might be important predictors in a model of spam as I think they might include \"order\", \"free\", \"credit\" frequently in their emails. \n",
        "\n",
        "\"order\": Since spam concept includes advertisement for product/web, I think they might want the reader to purchase their products by making an order. So the word \"order\" might appear frequently.\n",
        "\n",
        "\"free\": Spam might attract the reader to read or make purchases by giving them free gift, free shipping, etc. So the word \"free\" might appear frequently.\n",
        "\n",
        "\"credit\": Spam might attract the reader to make purchases by giving them extra credits which can be used in the future, or helping increase their credit by some methods. So the word \"credit\" might appear frequently."
      ]
    },
    {
      "cell_type": "markdown",
      "metadata": {
        "id": "gohGeBmHlvfy"
      },
      "source": [
        "3.  Visualize the univariate distribution of each of the variables in the previous question.  "
      ]
    },
    {
      "cell_type": "code",
      "execution_count": null,
      "metadata": {
        "colab": {
          "base_uri": "https://localhost:8080/",
          "height": 447
        },
        "id": "7rw6Y9YolvxO",
        "outputId": "7980ce5d-e7fe-4cda-d9cd-bc0169a7aa1a"
      },
      "outputs": [
        {
          "name": "stdout",
          "output_type": "stream",
          "text": [
            "count    4601.000000\n",
            "mean        0.090067\n",
            "std         0.278616\n",
            "min         0.000000\n",
            "25%         0.000000\n",
            "50%         0.000000\n",
            "75%         0.000000\n",
            "max         5.260000\n",
            "Name: word_freq_order:, dtype: float64\n"
          ]
        },
        {
          "data": {
            "text/plain": [
              "<matplotlib.axes._subplots.AxesSubplot at 0x7f4c77ae3390>"
            ]
          },
          "execution_count": 19,
          "metadata": {},
          "output_type": "execute_result"
        },
        {
          "data": {
            "image/png": "[encoded data removed]",
            "text/plain": [
              "<Figure size 432x288 with 1 Axes>"
            ]
          },
          "metadata": {},
          "output_type": "display_data"
        }
      ],
      "source": [
        "print(df['word_freq_order:'].describe())\n",
        "df['word_freq_order:'].hist()"
      ]
    },
    {
      "cell_type": "code",
      "execution_count": null,
      "metadata": {
        "colab": {
          "base_uri": "https://localhost:8080/",
          "height": 447
        },
        "id": "WRYNdXOtLTnF",
        "outputId": "2ab6dba1-e4bf-4204-f517-3e37d953f2ad"
      },
      "outputs": [
        {
          "name": "stdout",
          "output_type": "stream",
          "text": [
            "count    4601.000000\n",
            "mean        0.248848\n",
            "std         0.825792\n",
            "min         0.000000\n",
            "25%         0.000000\n",
            "50%         0.000000\n",
            "75%         0.100000\n",
            "max        20.000000\n",
            "Name: word_freq_free:, dtype: float64\n"
          ]
        },
        {
          "data": {
            "text/plain": [
              "<matplotlib.axes._subplots.AxesSubplot at 0x7f4c77a6ad90>"
            ]
          },
          "execution_count": 20,
          "metadata": {},
          "output_type": "execute_result"
        },
        {
          "data": {
            "image/png": "[encoded data removed]",
            "text/plain": [
              "<Figure size 432x288 with 1 Axes>"
            ]
          },
          "metadata": {},
          "output_type": "display_data"
        }
      ],
      "source": [
        "print(df['word_freq_free:'].describe())\n",
        "df['word_freq_free:'].hist()"
      ]
    },
    {
      "cell_type": "code",
      "execution_count": null,
      "metadata": {
        "colab": {
          "base_uri": "https://localhost:8080/",
          "height": 447
        },
        "id": "ljCC7Y7hLT4M",
        "outputId": "b43e92dc-a68a-4a20-a1db-a1217e3c4194"
      },
      "outputs": [
        {
          "name": "stdout",
          "output_type": "stream",
          "text": [
            "count    4601.000000\n",
            "mean        0.085577\n",
            "std         0.509767\n",
            "min         0.000000\n",
            "25%         0.000000\n",
            "50%         0.000000\n",
            "75%         0.000000\n",
            "max        18.180000\n",
            "Name: word_freq_credit:, dtype: float64\n"
          ]
        },
        {
          "data": {
            "text/plain": [
              "<matplotlib.axes._subplots.AxesSubplot at 0x7f4c77a6a190>"
            ]
          },
          "execution_count": 21,
          "metadata": {},
          "output_type": "execute_result"
        },
        {
          "data": {
            "image/png": "[encoded data removed]",
            "text/plain": [
              "<Figure size 432x288 with 1 Axes>"
            ]
          },
          "metadata": {},
          "output_type": "display_data"
        }
      ],
      "source": [
        "print(df['word_freq_credit:'].describe())\n",
        "df['word_freq_credit:'].hist()"
      ]
    },
    {
      "cell_type": "markdown",
      "metadata": {
        "id": "9T6LFn_0lv-7"
      },
      "source": [
        "4. Name each of the supervised learning models that we have learned thus far that are used to predict dependent variables like \"spam\".   "
      ]
    },
    {
      "cell_type": "markdown",
      "metadata": {
        "id": "CYKPPrgSn3UU"
      },
      "source": [
        "If we want to focus on supervised learning models in classification:\n",
        "1. K Nearest Neighbors\n",
        "2. Logistic Regression\n",
        "3. Random Forest\n",
        "4. Decision Tree\n",
        "5. Support Vector Machines\n",
        "6. Bagging"
      ]
    },
    {
      "cell_type": "markdown",
      "metadata": {
        "id": "JzHnmTNWlwqD"
      },
      "source": [
        "5. Describe the importance of training and test data.  Why do we separate data into these subsets?"
      ]
    },
    {
      "cell_type": "markdown",
      "metadata": {
        "id": "09b8hAvwpq73"
      },
      "source": [
        "When we try to learn something, we split our data into two subsets: training data and test data. They play different role in Machine Learning, but both of them are important for us to learn the dataset. Training data is used to train or fit the model, while testing data is used to check how accurate the model is."
      ]
    },
    {
      "cell_type": "markdown",
      "metadata": {
        "id": "SPNp7y6YlxI8"
      },
      "source": [
        "6. What is k-fold cross validation and what do we use it for?"
      ]
    },
    {
      "cell_type": "markdown",
      "metadata": {
        "id": "3ALcsMZlM_bC"
      },
      "source": [
        "k-fold cross validation: Split the observation into k subset randomly. Each subset can be used as a test data set. When a specific subset is used as a test set, the other k-1 subsets can be treated as a training data set. Then we can fit model on the training data set, and test the model with the test data set. \n",
        "\n",
        "We use k-fold cross validation as it provides us a less biased estimate of the model compare to simple split method. \n",
        "\n",
        "(https://machinelearningmastery.com/k-fold-cross-validation/)"
      ]
    },
    {
      "cell_type": "markdown",
      "metadata": {
        "id": "wq0vFDDXlyR_"
      },
      "source": [
        "7. How is k-fold cross validation different from stratified k-fold cross validation?"
      ]
    },
    {
      "cell_type": "markdown",
      "metadata": {
        "id": "PtUBd6ennP66"
      },
      "source": [
        "Stratified: Ensure relative class frequencies in each fold reflect relative class frequencies on the whole dataset. (Class 3 slides: Intro to supervised learning)\n",
        "\n",
        "Instead of doing random sampling, stratified k-fold cross validation uses stratified sampling."
      ]
    },
    {
      "cell_type": "markdown",
      "metadata": {
        "id": "AEBNxVmmmJjh"
      },
      "source": [
        "8. Choose one model from question four.  Split the data into training and test subsets.  Build a model with the three variables in the dataset that you think will be good predictors of \"spam\".  Describe why you chose any particular parameters for your model (e.g.- if you used KNN how did you decide to choose a specific value for k).  Run the model and evaluate prediction error in two ways: A) On test data directly and B) using k-fold cross-validation."
      ]
    },
    {
      "cell_type": "code",
      "execution_count": null,
      "metadata": {
        "colab": {
          "base_uri": "https://localhost:8080/"
        },
        "id": "Ryo9wS9HmJzY",
        "outputId": "34c67da8-f107-46e1-ba4a-8d0e3d80ceac"
      },
      "outputs": [
        {
          "name": "stdout",
          "output_type": "stream",
          "text": [
            "0       1\n",
            "1       1\n",
            "2       1\n",
            "3       1\n",
            "4       1\n",
            "       ..\n",
            "4596    0\n",
            "4597    0\n",
            "4598    0\n",
            "4599    0\n",
            "4600    0\n",
            "Name: spam, Length: 4601, dtype: int64\n",
            "      word_freq_order:  word_freq_free:  word_freq_credit:\n",
            "0                 0.00             0.32               0.00\n",
            "1                 0.00             0.14               0.00\n",
            "2                 0.64             0.06               0.32\n",
            "3                 0.31             0.31               0.00\n",
            "4                 0.31             0.31               0.00\n",
            "...                ...              ...                ...\n",
            "4596              0.00             0.00               0.00\n",
            "4597              0.00             0.00               0.00\n",
            "4598              0.00             0.00               0.00\n",
            "4599              0.00             0.00               0.00\n",
            "4600              0.00             0.00               0.00\n",
            "\n",
            "[4601 rows x 3 columns]\n"
          ]
        }
      ],
      "source": [
        "# Split the data into training and test subset\n",
        "y = df['spam']\n",
        "print(y)\n",
        "\n",
        "X = df.loc[:, lambda df:[\"word_freq_order:\",\"word_freq_free:\",\"word_freq_credit:\"]]\n",
        "print(X)"
      ]
    },
    {
      "cell_type": "code",
      "execution_count": null,
      "metadata": {
        "colab": {
          "base_uri": "https://localhost:8080/"
        },
        "id": "34TZWlgPNgLP",
        "outputId": "78d01c41-a4dd-4e31-a1c1-e578f4bdf379"
      },
      "outputs": [
        {
          "name": "stdout",
          "output_type": "stream",
          "text": [
            "(4601, 3)\n"
          ]
        },
        {
          "data": {
            "text/plain": [
              "(3450, 3)"
            ]
          },
          "execution_count": 23,
          "metadata": {},
          "output_type": "execute_result"
        }
      ],
      "source": [
        "# Train test split\n",
        "from sklearn.model_selection import train_test_split\n",
        "\n",
        "# Use train_test_split(X,y) to create four new data sets, defaults to .75/.25 split\n",
        "X_train, X_test, y_train, y_test = train_test_split(X, y)\n",
        "\n",
        "print(X.shape)\n",
        "X_train.shape"
      ]
    },
    {
      "cell_type": "code",
      "execution_count": null,
      "metadata": {
        "colab": {
          "base_uri": "https://localhost:8080/"
        },
        "id": "53uxhp26NoVh",
        "outputId": "e4eea4cb-761c-4cde-f0e9-05ff0d04b9f8"
      },
      "outputs": [
        {
          "name": "stdout",
          "output_type": "stream",
          "text": [
            "k = 5, knn score= 0.3831450912250217\n",
            "k = 10, knn score = 0.8192875760208514\n",
            "k = 15, knn score = 0.8158123370981755\n"
          ]
        }
      ],
      "source": [
        "# Use KNN model\n",
        "# First, choose k=5\n",
        "\n",
        "from sklearn.neighbors import KNeighborsClassifier\n",
        "\n",
        "knn = KNeighborsClassifier(n_neighbors=5)\n",
        "knn.fit(X_train, y_train)\n",
        "\n",
        "#Print accuracy rounded to two digits to the right of decimal\n",
        "print(\"k = 5, knn score=\", knn.score(X_test, y_test))\n",
        "\n",
        "y_pred = knn.predict(X_test) # y_pred includes your predictions\n",
        "\n",
        "# Choose k = 10\n",
        "knn = KNeighborsClassifier(n_neighbors=10)\n",
        "knn.fit(X_train, y_train)\n",
        "\n",
        "#Print accuracy rounded to two digits to the right of decimal\n",
        "print(\"k = 10, knn score =\" , knn.score(X_test, y_test))\n",
        "y_pred = knn.predict(X_test)\n",
        "\n",
        "# Choose k = 15\n",
        "knn = KNeighborsClassifier(n_neighbors=15)\n",
        "knn.fit(X_train, y_train)\n",
        "\n",
        "#Print accuracy rounded to two digits to the right of decimal\n",
        "print(\"k = 15, knn score =\" , knn.score(X_test, y_test))\n",
        "y_pred = knn.predict(X_test)\n"
      ]
    },
    {
      "cell_type": "markdown",
      "metadata": {
        "id": "RR5m0hchPyhq"
      },
      "source": [
        "As we can see from the previous knn score, when k = 15, knn score is the highest. So we will choose k = 15 in the KNN model."
      ]
    },
    {
      "cell_type": "code",
      "execution_count": null,
      "metadata": {
        "colab": {
          "base_uri": "https://localhost:8080/"
        },
        "id": "wQqOFKJzR0O4",
        "outputId": "9c610819-815f-445e-fed6-78ae06c0dade"
      },
      "outputs": [
        {
          "name": "stdout",
          "output_type": "stream",
          "text": [
            "KFold with 5:\n",
            "0.7915942028985508\n",
            "KFold with 10:\n",
            "0.7921739130434783\n"
          ]
        }
      ],
      "source": [
        "#import cross validation functions from sk learn\n",
        "\n",
        "from sklearn.model_selection import cross_val_score\n",
        "from sklearn.model_selection import KFold\n",
        "import numpy as np\n",
        "\n",
        "# Set up function parameters for diff't cross validation strategies\n",
        "kfold = KFold(n_splits=5)\n",
        "\n",
        "from statistics import mean \n",
        "\n",
        "print(\"KFold with 5:\\n{}\".format(\n",
        "mean(cross_val_score(KNeighborsClassifier(n_neighbors=15), X_train, y_train, cv=kfold))))\n",
        "\n",
        "kfold = KFold(n_splits=10)\n",
        "\n",
        "from statistics import mean \n",
        "\n",
        "print(\"KFold with 10:\\n{}\".format(\n",
        "mean(cross_val_score(KNeighborsClassifier(n_neighbors=15), X_train, y_train, cv=kfold))))\n",
        "\n"
      ]
    },
    {
      "cell_type": "markdown",
      "metadata": {
        "id": "Sj6XRnEJUG_x"
      },
      "source": [
        "Here, I will choose n_splits=10 as the parameter of KFold, as it has a better cross_val_score. \n",
        "\n",
        "Also, k=10 was found to provide good trade-off of low computational cost and low bias in an estimate of model performance.(https://machinelearningmastery.com/how-to-configure-k-fold-cross-validation/#:~:text=The%20key%20configuration%20parameter%20for,evaluate%20models%20is%20k%3D10.)"
      ]
    },
    {
      "cell_type": "markdown",
      "metadata": {
        "id": "iCXTMEJaSiwP"
      },
      "source": [
        "The best score that KNN model get is 0.8063768115942029."
      ]
    },
    {
      "cell_type": "markdown",
      "metadata": {
        "id": "u4rwoQPFmLlh"
      },
      "source": [
        "9. Choose a second model from question four.  Using the same three variables in the dataset that you think will be good predictors of \"spam\".  Describe why you chose any particular parameters for your model (e.g.- if you used KNN how did you decide to choose a specific value for k).  Run the model and evaluate prediction error in two ways: A) On test data directly and B) using k-fold cross-validation.  Did this model predict test data better than your previous model?"
      ]
    },
    {
      "cell_type": "code",
      "execution_count": null,
      "metadata": {
        "colab": {
          "base_uri": "https://localhost:8080/"
        },
        "id": "unmYirFtmplD",
        "outputId": "fbdf79b2-934f-4945-8215-97a60b342b9b"
      },
      "outputs": [
        {
          "name": "stdout",
          "output_type": "stream",
          "text": [
            "logreg .coef_: [[1.47909829 2.06454786 3.46998829]]\n",
            "Training set score: 0.748\n",
            "Test set score: 0.784\n",
            "logreg.predict: [0 0 1 ... 0 0 0]\n",
            "logreg .coef_: [[1.47001176 2.03167546 2.87959564]]\n",
            "Training set score: 0.749\n",
            "Test set score: 0.782\n",
            "logreg.predict: [0 0 1 ... 0 0 0]\n"
          ]
        },
        {
          "data": {
            "text/plain": [
              "LogisticRegression()"
            ]
          },
          "execution_count": 26,
          "metadata": {},
          "output_type": "execute_result"
        }
      ],
      "source": [
        "#Logistic Regression\n",
        "from sklearn.linear_model import LogisticRegression\n",
        "\n",
        "logreg = LogisticRegression(penalty='none').fit(X_train, y_train)\n",
        "\n",
        "print(\"logreg .coef_: {}\".format(logreg.coef_))\n",
        "\n",
        "\n",
        "print(\"Training set score: {:.3f}\".format(logreg.score(X_train, y_train)))\n",
        "print(\"Test set score: {:.3f}\".format(logreg.score(X_test, y_test)))\n",
        "\n",
        "\n",
        "predicted_vals = logreg.predict(X_test) # y_pred includes your predictions\n",
        "print(\"logreg.predict: {}\".format(predicted_vals))\n",
        "\n",
        "logreg\n",
        "\n",
        "\n",
        "logreg = LogisticRegression(penalty='l2').fit(X_train, y_train)\n",
        "\n",
        "print(\"logreg .coef_: {}\".format(logreg.coef_))\n",
        "\n",
        "\n",
        "print(\"Training set score: {:.3f}\".format(logreg.score(X_train, y_train)))\n",
        "print(\"Test set score: {:.3f}\".format(logreg.score(X_test, y_test)))\n",
        "\n",
        "\n",
        "predicted_vals = logreg.predict(X_test) # y_pred includes your predictions\n",
        "print(\"logreg.predict: {}\".format(predicted_vals))\n",
        "\n",
        "logreg\n"
      ]
    },
    {
      "cell_type": "code",
      "execution_count": null,
      "metadata": {
        "colab": {
          "base_uri": "https://localhost:8080/"
        },
        "id": "gA_pZNLbiSOy",
        "outputId": "bff9769b-e4b6-4c25-fd2d-4795b186de15"
      },
      "outputs": [
        {
          "name": "stdout",
          "output_type": "stream",
          "text": [
            "KFold with 5:\n",
            "0.7515942028985507\n",
            "KFold with 10:\n",
            "0.7495652173913043\n"
          ]
        }
      ],
      "source": [
        "# Use k-fold cross validation\n",
        "\n",
        "kfold = KFold(n_splits=5)\n",
        "\n",
        "print(\"KFold with 5:\\n{}\".format(\n",
        "mean(cross_val_score(LogisticRegression(), X_train, y_train, cv=kfold))))\n",
        "\n",
        "kfold = KFold(n_splits=10)\n",
        "\n",
        "from statistics import mean \n",
        "\n",
        "print(\"KFold with 10:\\n{}\".format(\n",
        "mean(cross_val_score(LogisticRegression(), X_train, y_train, cv=kfold))))"
      ]
    },
    {
      "cell_type": "markdown",
      "metadata": {
        "id": "SubM6B7Zizya"
      },
      "source": [
        "Here, we can see that k-fold with 5 has a better cross-validation score. So I will choose k-fold with 5."
      ]
    },
    {
      "cell_type": "markdown",
      "metadata": {
        "id": "vKLIhv7DinZV"
      },
      "source": [
        "The accuracy of Logistic Regression model is 0.752, and the accuracy of k-fold with 5 is 0.7478260869565218. The best score that Logistic Regression get is 0.752, which is lower than the previous model."
      ]
    },
    {
      "cell_type": "markdown",
      "metadata": {
        "id": "aDrsN6E7mLge"
      },
      "source": [
        "10. Choose a third model from question four.  Using the same three variables in the dataset that you think will be good predictors of \"spam\".  Describe why you chose any particular parameters for your model (e.g.- if you used KNN how did you decide to choose a specific value for k). Run the model and evaluate prediction error in two ways: A) On test data directly and B) using k-fold cross-validation.  Did this model predict test data better than your previous models?"
      ]
    },
    {
      "cell_type": "code",
      "execution_count": null,
      "metadata": {
        "colab": {
          "base_uri": "https://localhost:8080/"
        },
        "id": "28X47Qnimp1A",
        "outputId": "32471ccf-408a-48ea-cd51-1680d3c6ab7b"
      },
      "outputs": [
        {
          "data": {
            "text/plain": [
              "0.8549087749782798"
            ]
          },
          "execution_count": 28,
          "metadata": {},
          "output_type": "execute_result"
        }
      ],
      "source": [
        "# Decision Tree Classifier\n",
        "from sklearn.tree import DecisionTreeClassifier\n",
        "\n",
        "tree = DecisionTreeClassifier()\n",
        "\n",
        "model = tree.fit(X,y)\n",
        "\n",
        "model.score(X_test, y_test)\n"
      ]
    },
    {
      "cell_type": "code",
      "execution_count": null,
      "metadata": {
        "colab": {
          "base_uri": "https://localhost:8080/"
        },
        "id": "6lU2chjglWD1",
        "outputId": "44603b5e-d1f2-4c26-fd0d-0269e47a4822"
      },
      "outputs": [
        {
          "name": "stdout",
          "output_type": "stream",
          "text": [
            "KFold with 5:\n",
            "0.7756521739130434\n",
            "KFold with 10:\n",
            "0.778840579710145\n"
          ]
        }
      ],
      "source": [
        "# Use k-fold cross validation\n",
        "\n",
        "kfold = KFold(n_splits=5)\n",
        "\n",
        "print(\"KFold with 5:\\n{}\".format(\n",
        "mean(cross_val_score(DecisionTreeClassifier(), X_train, y_train, cv=kfold))))\n",
        "\n",
        "kfold = KFold(n_splits=10)\n",
        "\n",
        "from statistics import mean \n",
        "\n",
        "print(\"KFold with 10:\\n{}\".format(\n",
        "mean(cross_val_score(DecisionTreeClassifier(), X_train, y_train, cv=kfold))))"
      ]
    },
    {
      "cell_type": "markdown",
      "metadata": {
        "id": "wrB6D86JrhVW"
      },
      "source": [
        "Here, I will choose n_splits=10 as the parameter of KFold, as it has a better cross_val_score.\n",
        "\n",
        "Also, k=10 was found to provide good trade-off of low computational cost and low bias in an estimate of model performance.(https://machinelearningmastery.com/how-to-configure-k-fold-cross-validation/#:~:text=The%20key%20configuration%20parameter%20for,evaluate%20models%20is%20k%3D10.)"
      ]
    },
    {
      "cell_type": "markdown",
      "metadata": {
        "id": "u2OOsGEXs5z7"
      },
      "source": [
        "The accuracy of Logistic Regression model is 0.8427454387489139. With K-fold k = 10, the accuracy is 0.7808695652173914. So the best score that Logistic Regression model get is 0.8427454387489139. This is better than the previous models."
      ]
    },
    {
      "cell_type": "markdown",
      "metadata": {
        "id": "TkLb9uf4mLaI"
      },
      "source": [
        "11. Choose a fourth model from question four.  Using the same three variables in the dataset that you think will be good predictors of \"spam\".  Describe why you chose any particular parameters for your model (e.g.- if you used KNN how did you decide to choose a specific value for k). Run the model and evaluate prediction error in two ways: A) On test data directly and B) using k-fold cross-validation.  Did this model predict test data better than your previous models?"
      ]
    },
    {
      "cell_type": "code",
      "execution_count": null,
      "metadata": {
        "colab": {
          "base_uri": "https://localhost:8080/"
        },
        "id": "EDbSpV82mqr1",
        "outputId": "a8cfb750-43e2-4062-9238-0e58c480d1b9"
      },
      "outputs": [
        {
          "name": "stdout",
          "output_type": "stream",
          "text": [
            "n_estimater = 100, score =  0.8566463944396178\n",
            "n_estimater = 200, score =  0.8531711555169418\n",
            "n_estimater = 300, score =  0.8523023457862728\n",
            "n_estimater = 1000, score =  0.8523023457862728\n"
          ]
        }
      ],
      "source": [
        "# Random Forest Classifier\n",
        "\n",
        "from sklearn.ensemble import RandomForestClassifier\n",
        "\n",
        "model = RandomForestClassifier(n_estimators=100)\n",
        "\n",
        "#Using make_blobs toy dataset above\n",
        "model.fit(X,y)\n",
        "ypred = model.predict(X_test)\n",
        "print(\"n_estimater = 100, score = \", model.score(X_test,y_test))\n",
        "\n",
        "model = RandomForestClassifier(n_estimators=200)\n",
        "\n",
        "#Using make_blobs toy dataset above\n",
        "model.fit(X,y)\n",
        "ypred = model.predict(X_test)\n",
        "print(\"n_estimater = 200, score = \", model.score(X_test,y_test))\n",
        "\n",
        "model = RandomForestClassifier(n_estimators=300)\n",
        "\n",
        "#Using make_blobs toy dataset above\n",
        "model.fit(X,y)\n",
        "ypred = model.predict(X_test)\n",
        "print(\"n_estimater = 300, score = \", model.score(X_test,y_test))\n",
        "\n",
        "model = RandomForestClassifier(n_estimators=1000)\n",
        "\n",
        "#Using make_blobs toy dataset above\n",
        "model.fit(X,y)\n",
        "ypred = model.predict(X_test)\n",
        "print(\"n_estimater = 1000, score = \", model.score(X_test,y_test))\n",
        "\n",
        "\n"
      ]
    },
    {
      "cell_type": "markdown",
      "metadata": {
        "id": "lr-rcMwPrH1i"
      },
      "source": [
        "Here, we can find out that when n_estimater = 1000, the model has the highest score. So I will choose n_estimater to be 1000."
      ]
    },
    {
      "cell_type": "code",
      "execution_count": null,
      "metadata": {
        "colab": {
          "base_uri": "https://localhost:8080/"
        },
        "id": "eIPohe5OmSet",
        "outputId": "555a0a07-877f-4ce2-9b50-e8f5c0bca8a4"
      },
      "outputs": [
        {
          "name": "stdout",
          "output_type": "stream",
          "text": [
            "KFold with 5:\n",
            "0.7846376811594203\n",
            "KFold with 10:\n",
            "0.7855072463768116\n"
          ]
        }
      ],
      "source": [
        "# Using k-fold cross-validation\n",
        "kfold = KFold(n_splits=5)\n",
        "\n",
        "print(\"KFold with 5:\\n{}\".format(\n",
        "mean(cross_val_score(RandomForestClassifier(n_estimators=200), X_train, y_train, cv=kfold))))\n",
        "\n",
        "kfold = KFold(n_splits=10)\n",
        "\n",
        "from statistics import mean \n",
        "\n",
        "print(\"KFold with 10:\\n{}\".format(\n",
        "mean(cross_val_score(RandomForestClassifier(n_estimators=200), X_train, y_train, cv=kfold))))\n"
      ]
    },
    {
      "cell_type": "markdown",
      "metadata": {
        "id": "W4eyZHiTrYSV"
      },
      "source": [
        "Here, I will choose n_splits=10 as the parameter of KFold, as it has a better cross_val_score.\n",
        "\n",
        "Also, k=10 was found to provide good trade-off of low computational cost and low bias in an estimate of model performance.(https://machinelearningmastery.com/how-to-configure-k-fold-cross-validation/#:~:text=The%20key%20configuration%20parameter%20for,evaluate%20models%20is%20k%3D10.)"
      ]
    },
    {
      "cell_type": "markdown",
      "metadata": {
        "id": "4fY37HTItSXu"
      },
      "source": [
        "The accuracy of Random Forest Classifier is 0.840139009556907 when n_estimater = 1000. With k-fold = 10, the accuracy is 0.7936231884057972. The best score of Random Forest Classifier is 0.840139009556907. This is lower than the Logistic Regression model."
      ]
    },
    {
      "cell_type": "markdown",
      "metadata": {
        "id": "JsgBJaztmLPp"
      },
      "source": [
        "12. Now rerun your best model from questions 8 through 11, but this time add three new variables to the model that you think will increase prediction accuracy.   Did this model predict test data better than your previous models?\n",
        "\n"
      ]
    },
    {
      "cell_type": "markdown",
      "metadata": {
        "id": "LZCfiCPG9WBW"
      },
      "source": [
        "I will now add three variables to the model: \"word_freq_receive:\", \"word_freq_our:\", \"word_freq_mail:\", and use the Logistic Regression Model."
      ]
    },
    {
      "cell_type": "code",
      "execution_count": null,
      "metadata": {
        "colab": {
          "base_uri": "https://localhost:8080/"
        },
        "id": "YBmDtu-N9VfL",
        "outputId": "20b2a4c9-a459-4989-96cf-66705cbd550f"
      },
      "outputs": [
        {
          "name": "stdout",
          "output_type": "stream",
          "text": [
            "0       1\n",
            "1       1\n",
            "2       1\n",
            "3       1\n",
            "4       1\n",
            "       ..\n",
            "4596    0\n",
            "4597    0\n",
            "4598    0\n",
            "4599    0\n",
            "4600    0\n",
            "Name: spam, Length: 4601, dtype: int64\n",
            "      word_freq_order:  word_freq_free:  word_freq_credit:  \\\n",
            "0                 0.00             0.32               0.00   \n",
            "1                 0.00             0.14               0.00   \n",
            "2                 0.64             0.06               0.32   \n",
            "3                 0.31             0.31               0.00   \n",
            "4                 0.31             0.31               0.00   \n",
            "...                ...              ...                ...   \n",
            "4596              0.00             0.00               0.00   \n",
            "4597              0.00             0.00               0.00   \n",
            "4598              0.00             0.00               0.00   \n",
            "4599              0.00             0.00               0.00   \n",
            "4600              0.00             0.00               0.00   \n",
            "\n",
            "      word_freq_receive:  word_freq_our:  word_freq_mail:  \n",
            "0                   0.00            0.32             0.00  \n",
            "1                   0.21            0.14             0.94  \n",
            "2                   0.38            1.23             0.25  \n",
            "3                   0.31            0.63             0.63  \n",
            "4                   0.31            0.63             0.63  \n",
            "...                  ...             ...              ...  \n",
            "4596                0.00            0.00             0.00  \n",
            "4597                0.00            0.00             0.00  \n",
            "4598                0.00            0.00             0.00  \n",
            "4599                0.00            0.32             0.00  \n",
            "4600                0.00            0.00             0.00  \n",
            "\n",
            "[4601 rows x 6 columns]\n"
          ]
        }
      ],
      "source": [
        "# Add the three variables to the model\n",
        "y1 = df['spam']\n",
        "print(y1)\n",
        "\n",
        "X1 = df.loc[:, lambda df:[\"word_freq_order:\",\"word_freq_free:\",\"word_freq_credit:\",\"word_freq_receive:\", \"word_freq_our:\", \"word_freq_mail:\"]]\n",
        "print(X1)\n"
      ]
    },
    {
      "cell_type": "code",
      "execution_count": null,
      "metadata": {
        "colab": {
          "base_uri": "https://localhost:8080/"
        },
        "id": "B6A66TDu-Fhr",
        "outputId": "43a6e408-79b0-44a6-8923-c689c32c3971"
      },
      "outputs": [
        {
          "name": "stdout",
          "output_type": "stream",
          "text": [
            "(4601, 6)\n"
          ]
        },
        {
          "data": {
            "text/plain": [
              "(3450, 6)"
            ]
          },
          "execution_count": 33,
          "metadata": {},
          "output_type": "execute_result"
        }
      ],
      "source": [
        "# Train test split\n",
        "\n",
        "# Use train_test_split(X,y) to create four new data sets, defaults to .75/.25 split\n",
        "X1_train, X1_test, y1_train, y1_test = train_test_split(X1, y1)\n",
        "\n",
        "print(X1.shape)\n",
        "X1_train.shape"
      ]
    },
    {
      "cell_type": "code",
      "execution_count": null,
      "metadata": {
        "colab": {
          "base_uri": "https://localhost:8080/"
        },
        "id": "bZQ6FzN6-R50",
        "outputId": "a52ef18f-8f33-48f7-9f26-636b65431317"
      },
      "outputs": [
        {
          "name": "stdout",
          "output_type": "stream",
          "text": [
            "logreg .coef_: [[1.82485897 1.28933893 2.29945436 2.28592648 0.79260328 0.33568805]]\n",
            "Training set score: 0.774\n",
            "Test set score: 0.759\n",
            "logreg.predict: [0 0 1 ... 0 0 0]\n"
          ]
        },
        {
          "data": {
            "text/plain": [
              "LogisticRegression(penalty='none')"
            ]
          },
          "execution_count": 34,
          "metadata": {},
          "output_type": "execute_result"
        }
      ],
      "source": [
        "#Logistic Regression\n",
        "\n",
        "logreg = LogisticRegression(penalty='none').fit(X1_train, y1_train)\n",
        "\n",
        "print(\"logreg .coef_: {}\".format(logreg.coef_))\n",
        "\n",
        "\n",
        "print(\"Training set score: {:.3f}\".format(logreg.score(X1_train, y1_train)))\n",
        "print(\"Test set score: {:.3f}\".format(logreg.score(X1_test, y1_test)))\n",
        "\n",
        "\n",
        "predicted_vals = logreg.predict(X1_test) # y_pred includes your predictions\n",
        "print(\"logreg.predict: {}\".format(predicted_vals))\n",
        "\n",
        "logreg"
      ]
    },
    {
      "cell_type": "code",
      "execution_count": null,
      "metadata": {
        "colab": {
          "base_uri": "https://localhost:8080/"
        },
        "id": "ejwMs7k3-ZtN",
        "outputId": "39447578-bcb6-4b4e-8a56-4c25854f3954"
      },
      "outputs": [
        {
          "name": "stdout",
          "output_type": "stream",
          "text": [
            "KFold with 5:\n",
            "0.7753623188405797\n",
            "KFold with 10:\n",
            "0.7727536231884058\n"
          ]
        }
      ],
      "source": [
        "# Use k-fold cross validation\n",
        "\n",
        "kfold = KFold(n_splits=5)\n",
        "\n",
        "print(\"KFold with 5:\\n{}\".format(\n",
        "mean(cross_val_score(LogisticRegression(), X1_train, y1_train, cv=kfold))))\n",
        "\n",
        "kfold = KFold(n_splits=10)\n",
        "\n",
        "from statistics import mean \n",
        "\n",
        "print(\"KFold with 10:\\n{}\".format(\n",
        "mean(cross_val_score(LogisticRegression(), X1_train, y1_train, cv=kfold))))"
      ]
    },
    {
      "cell_type": "markdown",
      "metadata": {
        "id": "biCfLTW2-ktt"
      },
      "source": [
        "No. This time the highest score of the model is 0.770 which is lower than the previous model."
      ]
    },
    {
      "cell_type": "markdown",
      "metadata": {
        "id": "57sx4NMLmKyj"
      },
      "source": [
        "13. Rerun all your other models with this final set of six variables, evaluate prediction error, and choose a final model.  Why did you select this model among all of the models that you ran?"
      ]
    },
    {
      "cell_type": "markdown",
      "metadata": {
        "id": "n_iHxJrz_Ela"
      },
      "source": [
        "**KNN model**"
      ]
    },
    {
      "cell_type": "code",
      "execution_count": null,
      "metadata": {
        "colab": {
          "base_uri": "https://localhost:8080/"
        },
        "id": "Em-CuHYg-61F",
        "outputId": "d75edbad-4143-4e16-835c-f51638e51704"
      },
      "outputs": [
        {
          "name": "stdout",
          "output_type": "stream",
          "text": [
            "k = 5, knn score= 0.8053866203301477\n",
            "k = 10, knn score = 0.8010425716768028\n",
            "k = 15, knn score = 0.787141615986099\n"
          ]
        }
      ],
      "source": [
        "# Use KNN model\n",
        "# First, choose k=5\n",
        "\n",
        "from sklearn.neighbors import KNeighborsClassifier\n",
        "\n",
        "knn = KNeighborsClassifier(n_neighbors=5)\n",
        "knn.fit(X1_train, y1_train)\n",
        "\n",
        "#Print accuracy rounded to two digits to the right of decimal\n",
        "print(\"k = 5, knn score=\", knn.score(X1_test, y1_test))\n",
        "\n",
        "y_pred = knn.predict(X1_test) # y_pred includes your predictions\n",
        "\n",
        "# Choose k = 10\n",
        "knn = KNeighborsClassifier(n_neighbors=10)\n",
        "knn.fit(X1_train, y1_train)\n",
        "\n",
        "#Print accuracy rounded to two digits to the right of decimal\n",
        "print(\"k = 10, knn score =\" , knn.score(X1_test, y1_test))\n",
        "y_pred = knn.predict(X1_test)\n",
        "\n",
        "# Choose k = 15\n",
        "knn = KNeighborsClassifier(n_neighbors=15)\n",
        "knn.fit(X1_train, y1_train)\n",
        "\n",
        "#Print accuracy rounded to two digits to the right of decimal\n",
        "print(\"k = 15, knn score =\" , knn.score(X1_test, y1_test))\n",
        "y_pred = knn.predict(X1_test)"
      ]
    },
    {
      "cell_type": "markdown",
      "metadata": {
        "id": "CBJ3XF55A_nw"
      },
      "source": [
        "Here, choose k=5 since it has the highest score."
      ]
    },
    {
      "cell_type": "code",
      "execution_count": null,
      "metadata": {
        "colab": {
          "base_uri": "https://localhost:8080/"
        },
        "id": "D3NvdwVD_UvG",
        "outputId": "e4cb11b7-6def-41cd-f189-90038787620b"
      },
      "outputs": [
        {
          "name": "stdout",
          "output_type": "stream",
          "text": [
            "KFold with 5:\n",
            "0.8173913043478261\n",
            "KFold with 10:\n",
            "0.8202898550724638\n"
          ]
        }
      ],
      "source": [
        "# Set up function parameters for diff't cross validation strategies\n",
        "kfold = KFold(n_splits=5)\n",
        "\n",
        "print(\"KFold with 5:\\n{}\".format(\n",
        "mean(cross_val_score(KNeighborsClassifier(n_neighbors=5), X1_train, y1_train, cv=kfold))))\n",
        "\n",
        "kfold = KFold(n_splits=10)\n",
        "\n",
        "print(\"KFold with 10:\\n{}\".format(\n",
        "mean(cross_val_score(KNeighborsClassifier(n_neighbors=5), X1_train, y1_train, cv=kfold))))"
      ]
    },
    {
      "cell_type": "markdown",
      "metadata": {
        "id": "xFaxwmYP_fWg"
      },
      "source": [
        "The best score of KNN is 0.8188405797101449."
      ]
    },
    {
      "cell_type": "markdown",
      "metadata": {
        "id": "-Etjunwb_kHl"
      },
      "source": [
        "**Random Forest**"
      ]
    },
    {
      "cell_type": "code",
      "execution_count": null,
      "metadata": {
        "colab": {
          "base_uri": "https://localhost:8080/"
        },
        "id": "kzfh6Dr3ABOE",
        "outputId": "99a4b6cb-afbf-4a6e-8981-be1243bc2d36"
      },
      "outputs": [
        {
          "name": "stdout",
          "output_type": "stream",
          "text": [
            "n_estimater = 100, score =  0.9061685490877498\n",
            "n_estimater = 200, score =  0.9026933101650738\n",
            "n_estimater = 300, score =  0.9035621198957429\n",
            "n_estimater = 1000, score =  0.9035621198957429\n"
          ]
        }
      ],
      "source": [
        "# Random Forest Classifier\n",
        "\n",
        "from sklearn.ensemble import RandomForestClassifier\n",
        "\n",
        "model = RandomForestClassifier(n_estimators=100)\n",
        "\n",
        "#Using make_blobs toy dataset above\n",
        "model.fit(X1,y1)\n",
        "ypred = model.predict(X1_test)\n",
        "print(\"n_estimater = 100, score = \", model.score(X1_test,y1_test))\n",
        "\n",
        "model = RandomForestClassifier(n_estimators=200)\n",
        "\n",
        "#Using make_blobs toy dataset above\n",
        "model.fit(X1,y1)\n",
        "ypred = model.predict(X1_test)\n",
        "print(\"n_estimater = 200, score = \", model.score(X1_test,y1_test))\n",
        "\n",
        "model = RandomForestClassifier(n_estimators=300)\n",
        "\n",
        "#Using make_blobs toy dataset above\n",
        "model.fit(X1,y1)\n",
        "ypred = model.predict(X1_test)\n",
        "print(\"n_estimater = 300, score = \", model.score(X1_test,y1_test))\n",
        "\n",
        "model = RandomForestClassifier(n_estimators=1000)\n",
        "\n",
        "#Using make_blobs toy dataset above\n",
        "model.fit(X1,y1)\n",
        "ypred = model.predict(X1_test)\n",
        "print(\"n_estimater = 1000, score = \", model.score(X1_test,y1_test))"
      ]
    },
    {
      "cell_type": "markdown",
      "metadata": {
        "id": "H-MdrPRnBFyI"
      },
      "source": [
        "Here, choose n_estimater = 300 since it has the highest score."
      ]
    },
    {
      "cell_type": "code",
      "execution_count": null,
      "metadata": {
        "colab": {
          "base_uri": "https://localhost:8080/"
        },
        "id": "uY_9araWABey",
        "outputId": "f03527f3-e389-4f8d-b035-4580031fa333"
      },
      "outputs": [
        {
          "name": "stdout",
          "output_type": "stream",
          "text": [
            "KFold with 5:\n",
            "0.8156521739130435\n",
            "KFold with 10:\n",
            "0.8205797101449276\n"
          ]
        }
      ],
      "source": [
        "# Using k-fold cross-validation\n",
        "kfold = KFold(n_splits=5)\n",
        "\n",
        "print(\"KFold with 5:\\n{}\".format(\n",
        "mean(cross_val_score(RandomForestClassifier(n_estimators=300), X1_train, y1_train, cv=kfold))))\n",
        "\n",
        "kfold = KFold(n_splits=10)\n",
        "\n",
        "print(\"KFold with 10:\\n{}\".format(\n",
        "mean(cross_val_score(RandomForestClassifier(n_estimators=300), X1_train, y1_train, cv=kfold))))"
      ]
    },
    {
      "cell_type": "markdown",
      "metadata": {
        "id": "ZlndfHmcAhdO"
      },
      "source": [
        "The best score of Random Forest is 0.9044309296264118."
      ]
    },
    {
      "cell_type": "markdown",
      "metadata": {
        "id": "MSf6ZiCm_qb9"
      },
      "source": [
        "**Decision Tree**"
      ]
    },
    {
      "cell_type": "code",
      "execution_count": null,
      "metadata": {
        "colab": {
          "base_uri": "https://localhost:8080/"
        },
        "id": "Gy6HFksd_saR",
        "outputId": "68804074-8df0-406e-e32c-18bf5db73762"
      },
      "outputs": [
        {
          "data": {
            "text/plain": [
              "0.9026933101650738"
            ]
          },
          "execution_count": 40,
          "metadata": {},
          "output_type": "execute_result"
        }
      ],
      "source": [
        "# Decision Tree Classifier\n",
        "tree = DecisionTreeClassifier()\n",
        "\n",
        "model = tree.fit(X1,y1)\n",
        "\n",
        "model.score(X1_test, y1_test)"
      ]
    },
    {
      "cell_type": "code",
      "execution_count": null,
      "metadata": {
        "colab": {
          "base_uri": "https://localhost:8080/"
        },
        "id": "xvgr-sED_1K1",
        "outputId": "2c5e2834-705b-43d3-dccc-21d24b859a84"
      },
      "outputs": [
        {
          "name": "stdout",
          "output_type": "stream",
          "text": [
            "KFold with 5:\n",
            "0.8049275362318841\n",
            "KFold with 10:\n",
            "0.8098550724637681\n"
          ]
        }
      ],
      "source": [
        "# Use k-fold cross validation\n",
        "\n",
        "kfold = KFold(n_splits=5) # add a comment on why you chose this specific parameter. \n",
        "\n",
        "print(\"KFold with 5:\\n{}\".format(\n",
        "mean(cross_val_score(DecisionTreeClassifier(), X1_train, y1_train, cv=kfold))))\n",
        "\n",
        "kfold = KFold(n_splits=10) # add a comment on why you chose this specific parameter.\n",
        "\n",
        "print(\"KFold with 10:\\n{}\".format(\n",
        "mean(cross_val_score(DecisionTreeClassifier(), X1_train, y1_train, cv=kfold))))"
      ]
    },
    {
      "cell_type": "markdown",
      "metadata": {
        "id": "KorDXp5__9Bb"
      },
      "source": [
        "The best score of Decision Tree is 0.9061685490877498."
      ]
    },
    {
      "cell_type": "markdown",
      "metadata": {
        "id": "TVfvGk0UA21a"
      },
      "source": [
        "Overall, I will choose Decision Tree classifier as the final model, without k-fold. This model has the highest score with the 6 variables."
      ]
    },
    {
      "cell_type": "markdown",
      "metadata": {
        "id": "dfz55IVjmimp"
      },
      "source": [
        "14. What variable that currently is not in your model, if included, would be likely to increase your final model's predictive power?  For this answer try to speculate about a variable outside the variables available in the data that would improve you model."
      ]
    },
    {
      "cell_type": "markdown",
      "metadata": {
        "id": "gGw-9wsKRC20"
      },
      "source": [
        "I think the the word \"shop\" might also be a word that appears frequently in spam emails as spam emails always ask people to buy something. So the variable \"word_freq_shop\" might increase the final model's predictive power."
      ]
    },
    {
      "cell_type": "markdown",
      "metadata": {
        "id": "xsjXO2NAmi2e"
      },
      "source": [
        "15. Lastly, you have listed each of the models that we have learned to use to predict dependent variables like spam.  List each model we have focused on in class thus far that you could use to evaluate data with a continuous dependent variable. "
      ]
    },
    {
      "cell_type": "markdown",
      "metadata": {
        "id": "Xx955WK0RA0r"
      },
      "source": [
        "Supervised Learning Models:\n",
        "1. K Nearest Neighbors:KNN\n",
        "2. Ridge Regression\n",
        "3. Lasso Regression\n",
        "4. Linear Regression\n",
        "5. Logistic Regression\n",
        "6. Support Vector Machines\n",
        "7. Random Forests\n",
        "8. Decision Tree\n",
        "9. Bagging"
      ]
    }
  ],
  "metadata": {
    "colab": {
      "provenance": []
    },
    "kernelspec": {
      "display_name": "Python 3",
      "name": "python3"
    },
    "language_info": {
      "name": "python"
    }
  },
  "nbformat": 4,
  "nbformat_minor": 0
}
